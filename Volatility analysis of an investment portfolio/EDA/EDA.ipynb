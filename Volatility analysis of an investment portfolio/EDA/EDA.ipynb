{
  "nbformat": 4,
  "nbformat_minor": 0,
  "metadata": {
    "colab": {
      "provenance": []
    },
    "kernelspec": {
      "name": "python3",
      "display_name": "Python 3"
    },
    "language_info": {
      "name": "python"
    }
  },
  "cells": [
    {
      "cell_type": "code",
      "execution_count": null,
      "metadata": {
        "id": "WNhbyoec_Fid"
      },
      "outputs": [],
      "source": [
        "import pandas as pd\n",
        "import numpy as np"
      ]
    },
    {
      "cell_type": "code",
      "source": [
        "from google.colab import drive\n",
        "drive.mount('/content/drive')"
      ],
      "metadata": {
        "colab": {
          "base_uri": "https://localhost:8080/"
        },
        "id": "URDtGmBEZ-fl",
        "outputId": "089a1e85-7f45-48a0-a8ae-59b39305ffb3"
      },
      "execution_count": null,
      "outputs": [
        {
          "output_type": "stream",
          "name": "stdout",
          "text": [
            "Mounted at /content/drive\n"
          ]
        }
      ]
    },
    {
      "cell_type": "code",
      "source": [
        "df = pd.read_csv('Table of Returns.csv')\n",
        "df.head()"
      ],
      "metadata": {
        "id": "_Z_cmNvn_K10"
      },
      "execution_count": null,
      "outputs": []
    },
    {
      "cell_type": "code",
      "source": [
        "df.info()"
      ],
      "metadata": {
        "id": "6BlWbVsh_NNN"
      },
      "execution_count": null,
      "outputs": []
    },
    {
      "cell_type": "code",
      "source": [
        "df['Date'] = df['Date'].apply(pd.to_datetime)\n",
        "df.info()"
      ],
      "metadata": {
        "id": "dtJ72y38_P7J"
      },
      "execution_count": null,
      "outputs": []
    },
    {
      "cell_type": "code",
      "source": [
        "df.describe()"
      ],
      "metadata": {
        "id": "SW-af4ii_VkZ"
      },
      "execution_count": null,
      "outputs": []
    },
    {
      "cell_type": "code",
      "source": [
        "df.corr()"
      ],
      "metadata": {
        "id": "vHf3-KfW_X6m"
      },
      "execution_count": null,
      "outputs": []
    },
    {
      "cell_type": "code",
      "source": [
        "import matplotlib.pyplot as plt\n",
        "fig,axs = plt.subplots(1,1,figsize=(9,9))\n",
        "axs.plot(df['AAPL'], color='yellow', alpha=0.5)\n",
        "axs.plot(df['VNINDEX'], color='purple', alpha=0.5)\n",
        "plt.show()"
      ],
      "metadata": {
        "id": "OKb27sDx_aWy"
      },
      "execution_count": null,
      "outputs": []
    },
    {
      "cell_type": "code",
      "source": [
        "import matplotlib.pyplot as plt\n",
        "fig,axs = plt.subplots(1,1,figsize=(9,9))\n",
        "axs.plot(df['Bitcoin'], color='yellow', alpha=0.5)\n",
        "axs.plot(df['VNINDEX'], color='purple', alpha=0.5)\n",
        "plt.show()"
      ],
      "metadata": {
        "id": "npezx3ua_dD4"
      },
      "execution_count": null,
      "outputs": []
    },
    {
      "cell_type": "code",
      "source": [
        "import matplotlib.pyplot as plt\n",
        "fig,axs = plt.subplots(1,1,figsize=(9,9))\n",
        "axs.plot(df['GOOGL'], color='yellow', alpha=0.5)\n",
        "axs.plot(df['VNINDEX'], color='purple', alpha=0.5)\n",
        "plt.show()"
      ],
      "metadata": {
        "id": "WodjuoTb_uAh"
      },
      "execution_count": null,
      "outputs": []
    },
    {
      "cell_type": "code",
      "source": [
        "import matplotlib.pyplot as plt\n",
        "fig,axs = plt.subplots(1,1,figsize=(9,9))\n",
        "axs.plot(df['MSFT'], color='yellow', alpha=0.5)\n",
        "axs.plot(df['VNINDEX'], color='purple', alpha=0.5)\n",
        "plt.show()"
      ],
      "metadata": {
        "id": "R-5dmfqs_xmb"
      },
      "execution_count": null,
      "outputs": []
    },
    {
      "cell_type": "code",
      "source": [
        "mean_of_APPL = 0.000776158\n",
        "mean_of_Bitcoin = 0.003920583\n",
        "mean_of_GOOGL = 0.000679117\n",
        "mean_of_MSFT = 0.00119301\n",
        "mean_of_VNINDEX = 0.000620497"
      ],
      "metadata": {
        "id": "kVle-0al_2nB"
      },
      "execution_count": null,
      "outputs": []
    },
    {
      "cell_type": "code",
      "source": [
        "VNINDEX_and_AAPL = ((mean_of_VNINDEX*2332)+(mean_of_APPL*2332))/(2332+2332)\n",
        "VNINDEX_and_AAPL"
      ],
      "metadata": {
        "id": "r75h8JMa_6_4"
      },
      "execution_count": null,
      "outputs": []
    },
    {
      "cell_type": "code",
      "source": [
        "VNINDEX_and_Bitcoin = (mean_of_VNINDEX*2332+mean_of_Bitcoin*2332)/(2332+2332)\n",
        "VNINDEX_and_Bitcoin"
      ],
      "metadata": {
        "id": "A9lqF3io_9BP"
      },
      "execution_count": null,
      "outputs": []
    },
    {
      "cell_type": "code",
      "source": [
        "VNINDEX_and_GOOGL = (mean_of_VNINDEX*2332+mean_of_GOOGL*2332)/(2332+2332)\n",
        "VNINDEX_and_GOOGL"
      ],
      "metadata": {
        "id": "2qOQp3YM_-1Q"
      },
      "execution_count": null,
      "outputs": []
    },
    {
      "cell_type": "code",
      "source": [
        "VNINDEX_and_MSFT = (mean_of_VNINDEX*2332+mean_of_MSFT*2332)/(2332+2332)\n",
        "VNINDEX_and_MSFT"
      ],
      "metadata": {
        "id": "Hj8jb6zwABGC"
      },
      "execution_count": null,
      "outputs": []
    },
    {
      "cell_type": "code",
      "source": [
        "df1= pd.read_csv('In Covid')\n",
        "df1.head()"
      ],
      "metadata": {
        "id": "CVdjllMEAPq7"
      },
      "execution_count": null,
      "outputs": []
    },
    {
      "cell_type": "code",
      "source": [
        "mean_of_APPL_Covid = 0.002080453\n",
        "mean_of_Bitcoin_Covid = 0.004461934\n",
        "mean_of_GOOGL_Covid = 0.001806379\n",
        "mean_of_MSFT_Covid = 0.001713992\n",
        "mean_of_VNINDEX_Covid = 0.000887037"
      ],
      "metadata": {
        "id": "XvDrgjZzAreg"
      },
      "execution_count": null,
      "outputs": []
    },
    {
      "cell_type": "code",
      "source": [
        "VNINDEX_and_AAPL_Covid = (mean_of_VNINDEX_Covid*486+mean_of_APPL_Covid*486)/(486+486)\n",
        "VNINDEX_and_AAPL_Covid"
      ],
      "metadata": {
        "id": "-fHWXC3dCdUr"
      },
      "execution_count": null,
      "outputs": []
    },
    {
      "cell_type": "code",
      "source": [
        "VNINDEX_and_Bitcoin_Covid = (mean_of_VNINDEX_Covid*486+mean_of_Bitcoin_Covid*486)/(486+486)\n",
        "VNINDEX_and_Bitcoin_Covid"
      ],
      "metadata": {
        "id": "mQ7p4zvdDaFF"
      },
      "execution_count": null,
      "outputs": []
    },
    {
      "cell_type": "code",
      "source": [
        "VNINDEX_and_GOOGL_Covid = (mean_of_VNINDEX_Covid*486+mean_of_GOOGL_Covid*486)/(486+486)\n",
        "VNINDEX_and_GOOGL_Covid"
      ],
      "metadata": {
        "id": "tuPyM90YDm61"
      },
      "execution_count": null,
      "outputs": []
    },
    {
      "cell_type": "code",
      "source": [
        "VNINDEX_and_MSFT_Covid = (mean_of_VNINDEX_Covid*486+mean_of_MSFT_Covid*486)/(486+486)\n",
        "VNINDEX_and_MSFT_Covid"
      ],
      "metadata": {
        "id": "cjH7FMx2D4C5"
      },
      "execution_count": null,
      "outputs": []
    },
    {
      "cell_type": "code",
      "source": [
        "VNINDEX_AAPL_GOOGL_Bitcoin_MSFT = (mean_of_VNINDEX*2332+mean_of_APPL*2332+mean_of_Bitcoin*2332+mean_of_GOOGL*2332+mean_of_MSFT*2332)/(2332*5)\n",
        "VNINDEX_AAPL_GOOGL_Bitcoin_MSFT"
      ],
      "metadata": {
        "id": "7ks4z9nxEFOL"
      },
      "execution_count": null,
      "outputs": []
    },
    {
      "cell_type": "code",
      "source": [
        "VNINDEX_AAPL_GOOGL_MSFT = (mean_of_VNINDEX*2332+mean_of_APPL*2332+mean_of_GOOGL*2332+mean_of_MSFT*2332)/(2332*4)\n",
        "VNINDEX_AAPL_GOOGL_MSFT"
      ],
      "metadata": {
        "id": "7SEd8zokEpbI"
      },
      "execution_count": null,
      "outputs": []
    }
  ]
}